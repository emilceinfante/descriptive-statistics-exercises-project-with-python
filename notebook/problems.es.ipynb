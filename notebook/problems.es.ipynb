{
    "cells": [
        {
            "cell_type": "markdown",
            "id": "ac622319",
            "metadata": {},
            "source": [
                "# Problemas de Estadística Descriptica"
            ]
        },
        {
            "cell_type": "markdown",
            "id": "5e0ab0d5",
            "metadata": {},
            "source": [
                "### Ejercicio 1\n",
                "\n",
                "Usaremos NumPy para obtener información y describir estadísticamente.\n",
                "\n",
                "- Generar un arreglo de 100 elementos que sigan una distribución normal.\n",
                "- Generar un arreglo de 100 elementos que sigan una distribución chi-cuadrado con 3 grados de libertad.\n",
                "- Calcular las métricas principales y las medidas estadísticas que mejor describan los dos vectores."
            ]
        },
        {
            "cell_type": "code",
            "execution_count": 1,
            "id": "df526fe0",
            "metadata": {},
            "outputs": [],
            "source": [
                "import numpy as np \n",
                "import pandas as pd \n",
                "import statistics as stats\n"
            ]
        },
        {
            "cell_type": "code",
            "execution_count": null,
            "id": "34720ab6",
            "metadata": {},
            "outputs": [
                {
                    "data": {
                        "text/plain": [
                            "array([ 0.66015443,  0.47741775, -0.16573869, -1.01613189, -0.13252879,\n",
                            "       -0.62709156, -0.36941602,  0.348182  ,  1.52623218,  0.5629171 ,\n",
                            "       -1.77620938,  1.18605701, -1.08084451,  0.25380854,  0.31689187,\n",
                            "        0.86704822, -0.03439869, -0.62869927,  0.42367856,  1.3391451 ,\n",
                            "        0.06206888,  3.30296907,  0.20366573,  0.04150904, -0.08495929,\n",
                            "        0.72008932, -0.62562078,  0.41169701,  1.63905859,  0.39500757,\n",
                            "        0.0334792 ,  0.45226427, -1.45294687,  1.11211206, -1.68019608,\n",
                            "        0.27557452, -0.52754296, -0.4776591 , -1.09553591,  0.07546112,\n",
                            "       -0.2047046 ,  0.44074067,  0.705084  , -0.79780376,  0.86762014,\n",
                            "        0.37299702,  0.44706306,  0.53568939,  1.52440804, -1.11964352,\n",
                            "       -0.40596101,  0.30260524, -0.08575068,  0.77847647, -1.63527974,\n",
                            "       -0.72012028,  0.30866496, -0.22134281,  0.19628812, -0.3575    ,\n",
                            "       -0.34731409, -0.82600228,  0.36558337,  0.86931932,  0.06411574,\n",
                            "       -0.48714364, -0.24806   ,  0.35732022,  0.54961461,  0.56488278,\n",
                            "       -0.40243366,  0.10945343, -1.06746393, -1.01405723,  0.96882056,\n",
                            "        1.21914117,  2.24912185,  2.06841927, -0.18787727, -0.13712104,\n",
                            "       -1.12543512, -0.57699036,  0.94260721,  1.00554412, -0.98040279,\n",
                            "        1.01977097, -0.18932283,  0.11860646, -0.12583499, -0.17219498,\n",
                            "       -0.18191827, -0.48949264,  0.4831349 ,  0.30488295, -1.73336248,\n",
                            "        1.08847687, -0.09330484, -0.07989352,  1.56141441, -0.89265803])"
                        ]
                    },
                    "execution_count": 4,
                    "metadata": {},
                    "output_type": "execute_result"
                }
            ],
            "source": [
                "#distribucion normal\n",
                "\n",
                "dist_normal = np.random.normal(loc = 0, scale = 1, size = 100)\n",
                "dist_normal\n",
                "\n",
                "\n"
            ]
        },
        {
            "cell_type": "code",
            "execution_count": 5,
            "id": "d4e55cbe",
            "metadata": {},
            "outputs": [
                {
                    "data": {
                        "text/plain": [
                            "array([ 1.67862875,  2.75199267,  0.42492519,  0.37193669,  4.11154177,\n",
                            "        2.91411782,  1.34314667,  1.32844775,  0.62759768,  0.47420487,\n",
                            "        0.97557368,  2.37732229,  0.83947267,  0.4618246 ,  3.35053415,\n",
                            "        0.69229634,  1.22020732,  3.6154252 ,  0.88599054,  3.95776639,\n",
                            "        5.33320863,  1.13595904,  2.44001834,  2.65219294,  2.79424539,\n",
                            "        2.42256667,  0.72280468,  1.78417667,  2.90613532,  0.43741419,\n",
                            "        1.06934756,  0.76603464,  1.83475187,  2.69481262,  3.50141081,\n",
                            "        4.39602398,  3.2006908 ,  3.23895559,  2.78335961,  2.14411709,\n",
                            "        1.60732978,  3.10085799,  2.63930578,  4.16893554,  0.6277368 ,\n",
                            "        2.77530028,  4.31969591,  1.29297574,  5.01613577,  0.46316277,\n",
                            "        2.72615179,  2.69285625,  1.61057993,  1.38444092,  0.37870839,\n",
                            "        4.54619997,  4.57427092,  4.55267666,  0.964652  ,  3.23469589,\n",
                            "        2.42025094,  2.31723213,  1.24187075,  0.90599111,  1.66265377,\n",
                            "        0.42038298,  1.98850672,  1.80967825,  1.8386751 ,  2.95889831,\n",
                            "        0.72794293,  1.44232373,  0.55258882,  2.27787366,  0.83967966,\n",
                            "        1.4242895 ,  6.90100205,  3.09058388,  0.4601004 ,  6.79142727,\n",
                            "        2.29924954,  9.77582217,  4.96998702,  1.70838919,  1.43796349,\n",
                            "        2.78942847, 15.13849641,  2.46100638,  2.02112563,  1.83155437,\n",
                            "        1.85871309,  0.50670148,  5.58958389,  4.58901754,  8.16008476,\n",
                            "        0.53418744,  1.57374298,  0.67444912,  2.43887132,  6.90046283])"
                        ]
                    },
                    "execution_count": 5,
                    "metadata": {},
                    "output_type": "execute_result"
                }
            ],
            "source": [
                "#distribucion chi\n",
                "\n",
                "dist_chi = np.random.chisquare(df=3, size=100)\n",
                "dist_chi"
            ]
        },
        {
            "cell_type": "code",
            "execution_count": 6,
            "id": "b947d6cd",
            "metadata": {},
            "outputs": [
                {
                    "data": {
                        "text/html": [
                            "<div>\n",
                            "<style scoped>\n",
                            "    .dataframe tbody tr th:only-of-type {\n",
                            "        vertical-align: middle;\n",
                            "    }\n",
                            "\n",
                            "    .dataframe tbody tr th {\n",
                            "        vertical-align: top;\n",
                            "    }\n",
                            "\n",
                            "    .dataframe thead th {\n",
                            "        text-align: right;\n",
                            "    }\n",
                            "</style>\n",
                            "<table border=\"1\" class=\"dataframe\">\n",
                            "  <thead>\n",
                            "    <tr style=\"text-align: right;\">\n",
                            "      <th></th>\n",
                            "      <th>Value</th>\n",
                            "    </tr>\n",
                            "  </thead>\n",
                            "  <tbody>\n",
                            "    <tr>\n",
                            "      <th>0</th>\n",
                            "      <td>1.678629</td>\n",
                            "    </tr>\n",
                            "    <tr>\n",
                            "      <th>1</th>\n",
                            "      <td>2.751993</td>\n",
                            "    </tr>\n",
                            "    <tr>\n",
                            "      <th>2</th>\n",
                            "      <td>0.424925</td>\n",
                            "    </tr>\n",
                            "    <tr>\n",
                            "      <th>3</th>\n",
                            "      <td>0.371937</td>\n",
                            "    </tr>\n",
                            "    <tr>\n",
                            "      <th>4</th>\n",
                            "      <td>4.111542</td>\n",
                            "    </tr>\n",
                            "    <tr>\n",
                            "      <th>...</th>\n",
                            "      <td>...</td>\n",
                            "    </tr>\n",
                            "    <tr>\n",
                            "      <th>95</th>\n",
                            "      <td>0.534187</td>\n",
                            "    </tr>\n",
                            "    <tr>\n",
                            "      <th>96</th>\n",
                            "      <td>1.573743</td>\n",
                            "    </tr>\n",
                            "    <tr>\n",
                            "      <th>97</th>\n",
                            "      <td>0.674449</td>\n",
                            "    </tr>\n",
                            "    <tr>\n",
                            "      <th>98</th>\n",
                            "      <td>2.438871</td>\n",
                            "    </tr>\n",
                            "    <tr>\n",
                            "      <th>99</th>\n",
                            "      <td>6.900463</td>\n",
                            "    </tr>\n",
                            "  </tbody>\n",
                            "</table>\n",
                            "<p>100 rows × 1 columns</p>\n",
                            "</div>"
                        ],
                        "text/plain": [
                            "       Value\n",
                            "0   1.678629\n",
                            "1   2.751993\n",
                            "2   0.424925\n",
                            "3   0.371937\n",
                            "4   4.111542\n",
                            "..       ...\n",
                            "95  0.534187\n",
                            "96  1.573743\n",
                            "97  0.674449\n",
                            "98  2.438871\n",
                            "99  6.900463\n",
                            "\n",
                            "[100 rows x 1 columns]"
                        ]
                    },
                    "execution_count": 6,
                    "metadata": {},
                    "output_type": "execute_result"
                }
            ],
            "source": [
                "#conversion en DF\n",
                "\n",
                "dataframe_normal = pd.DataFrame(dist_normal)\n",
                "dataframe_normal.columns = [\"Value\"]\n",
                "dataframe_normal\n",
                "\n",
                "dataframe_chi = pd.DataFrame(dist_chi)\n",
                "dataframe_chi.columns = [\"Value\"]\n",
                "dataframe_chi"
            ]
        },
        {
            "cell_type": "code",
            "execution_count": 7,
            "id": "2fc95168",
            "metadata": {},
            "outputs": [
                {
                    "name": "stdout",
                    "output_type": "stream",
                    "text": [
                        "            Value\n",
                        "count  100.000000\n",
                        "mean     0.103944\n",
                        "std      0.883400\n",
                        "min     -1.776209\n",
                        "25%     -0.423886\n",
                        "50%      0.069788\n",
                        "75%      0.552940\n",
                        "max      3.302969\n",
                        "            Value\n",
                        "count  100.000000\n",
                        "mean     2.546686\n",
                        "std      2.205939\n",
                        "min      0.371937\n",
                        "25%      1.045904\n",
                        "50%      2.082621\n",
                        "75%      3.125816\n",
                        "max     15.138496\n"
                    ]
                }
            ],
            "source": [
                "# Aplico describe a cada uno de los DF \n",
                "\n",
                "print(dataframe_normal.describe())\n",
                "print(dataframe_chi.describe())\n"
            ]
        },
        {
            "cell_type": "code",
            "execution_count": 9,
            "id": "b19850e1",
            "metadata": {},
            "outputs": [
                {
                    "name": "stdout",
                    "output_type": "stream",
                    "text": [
                        "La media del DF con distribución normal es: 0.10394446231728617\n",
                        "La media del DF con distribución chisquare es: 2.5466863764105097\n",
                        "La mmoda del DF con distribución normal es: 0.6601544258427058\n",
                        "La moda del DF con distribución chisquare es: 1.678628754934457\n",
                        "La mediana del DF con distribución normal es: 0.06978843016430519\n",
                        "La mediana del DF con distribución chisquare es: 2.082621362056077\n"
                    ]
                }
            ],
            "source": [
                "# Calculo media, mediana y moda los DF \n",
                "\n",
                "# Media \n",
                "\n",
                "dataframe_normal_mean = np.mean(dataframe_normal)\n",
                "dataframe_chi_mean = np.mean(dataframe_chi)\n",
                "\n",
                "print(f\"La media del DF con distribución normal es: {dataframe_normal_mean}\")\n",
                "print(f\"La media del DF con distribución chisquare es: {dataframe_chi_mean}\")\n",
                "\n",
                "# Moda \n",
                "\n",
                "dataframe_normal_mode = stats.mode(dataframe_normal[\"Value\"])\n",
                "dataframe_chi_mode = stats.mode(dataframe_chi[\"Value\"])\n",
                "\n",
                "print(f\"La mmoda del DF con distribución normal es: {dataframe_normal_mode}\")\n",
                "print(f\"La moda del DF con distribución chisquare es: {dataframe_chi_mode}\")\n",
                "\n",
                "# Mediana \n",
                "\n",
                "dataframe_normal_median = stats.median(dataframe_normal[\"Value\"])\n",
                "dataframe_chi_median= stats.median(dataframe_chi[\"Value\"])\n",
                "\n",
                "print(f\"La mediana del DF con distribución normal es: {dataframe_normal_median}\")\n",
                "print(f\"La mediana del DF con distribución chisquare es: {dataframe_chi_median}\")\n"
            ]
        },
        {
            "cell_type": "code",
            "execution_count": 10,
            "id": "19b1a7f4",
            "metadata": {},
            "outputs": [
                {
                    "name": "stdout",
                    "output_type": "stream",
                    "text": [
                        "El rango del DF con distribución normal es: 5.07917845259977\n",
                        "El rango del DF con distribución chisquare es: 14.766559718161893\n",
                        "La Varianza del DF con distribución normal es: 0.780396335923824\n",
                        "La Varianza del DF con distribución chisquare es: 4.866168867230783\n",
                        "La Desviación estandar del DF con distribución normal es: 0.8789723389075367\n",
                        "La Desviación estandar del DF con distribución chisquare es: 2.194882042060228\n"
                    ]
                }
            ],
            "source": [
                "# Calcular rango, varianza y desviación estandar \n",
                "\n",
                "# Rango \n",
                "\n",
                "dataframe_normal_max_value = np.max(dataframe_normal[\"Value\"])\n",
                "dataframe_normal_min_value = np.min(dataframe_normal[\"Value\"])\n",
                "dataframe_normal_range = dataframe_normal_max_value - dataframe_normal_min_value\n",
                "\n",
                "print(f\"El rango del DF con distribución normal es: {dataframe_normal_range}\")\n",
                "\n",
                "\n",
                "dataframe_chi_max_value = np.max(dataframe_chi[\"Value\"])\n",
                "dataframe_chi_min_value = np.min(dataframe_chi[\"Value\"])\n",
                "dataframe_chi_range = dataframe_chi_max_value - dataframe_chi_min_value\n",
                "\n",
                "print(f\"El rango del DF con distribución chisquare es: {dataframe_chi_range}\")\n",
                "\n",
                "# Varianza \n",
                "\n",
                "dataframe_normal_var = stats.variance(dataframe_normal[\"Value\"])\n",
                "print(f\"La Varianza del DF con distribución normal es: {dataframe_normal_var}\")\n",
                "\n",
                "dataframe_chi_var = stats.variance(dataframe_chi[\"Value\"])\n",
                "print(f\"La Varianza del DF con distribución chisquare es: {dataframe_chi_var}\")\n",
                "\n",
                "# Desviación estandar \n",
                "\n",
                "dataframe_normal_dev_std = np.std(dataframe_normal[\"Value\"])\n",
                "print(f\"La Desviación estandar del DF con distribución normal es: {dataframe_normal_dev_std}\")\n",
                "\n",
                "dataframe_chi_dev_std = np.std(dataframe_chi[\"Value\"])\n",
                "print(f\"La Desviación estandar del DF con distribución chisquare es: {dataframe_chi_dev_std}\")\n"
            ]
        },
        {
            "cell_type": "code",
            "execution_count": 11,
            "id": "067f7107",
            "metadata": {},
            "outputs": [
                {
                    "name": "stdout",
                    "output_type": "stream",
                    "text": [
                        "Asimetría del DF con distribución normal: 0.4174129876986009 Asimetría del DF con ditribución chisquare: 2.5737043267804602\n",
                        "Curtosis del DF con distribución normal: 1.0104262325103468 Curtosis del DF con ditribución chisquare: 10.195159993388804\n"
                    ]
                }
            ],
            "source": [
                " \n",
                "\n",
                "# Asimetria \n",
                "\n",
                "from scipy.stats import skew, kurtosis \n",
                "\n",
                "skewkness_dataframe_normal = skew(dataframe_normal[\"Value\"])\n",
                "skewkness_dataframe_chi = skew(dataframe_chi[\"Value\"])\n",
                "\n",
                "print(f\"Asimetría del DF con distribución normal: {skewkness_dataframe_normal} Asimetría del DF con ditribución chisquare: {skewkness_dataframe_chi}\")\n",
                "\n",
                "#Curtosis\n",
                "\n",
                "kurtosis_dataframe_normal = kurtosis(dataframe_normal[\"Value\"])\n",
                "kurtosis_dataframe_chi = kurtosis(dataframe_chi[\"Value\"])\n",
                "\n",
                "print(f\"Curtosis del DF con distribución normal: {kurtosis_dataframe_normal} Curtosis del DF con ditribución chisquare: {kurtosis_dataframe_chi}\")\n",
                "\n",
                "\n",
                "\n",
                "\n"
            ]
        },
        {
            "cell_type": "markdown",
            "id": "46c70c3d",
            "metadata": {},
            "source": [
                "### Ejercicio 2\n",
                "\n",
                "Escribe un programa en Python para calcular la desviación estándar de los siguientes datos:\n",
                "\n",
                "```py\n",
                "data = [4, 2, 5, 8, 6]\n",
                "```"
            ]
        },
        {
            "cell_type": "code",
            "execution_count": null,
            "id": "d590308e",
            "metadata": {},
            "outputs": [
                {
                    "name": "stdout",
                    "output_type": "stream",
                    "text": [
                        "La desviación estándar es: 2.0\n"
                    ]
                }
            ],
            "source": [
                "\n",
                "\n",
                "data = [4, 2, 5, 8, 6]\n",
                "\n",
                "mean = sum(data) / len(data)\n",
                "\n",
                "\n",
                "variance = sum((x - mean) ** 2 for x in data) / len(data)\n",
                "std_dev = variance ** 0.5\n",
                "\n",
                "\n",
                "print(\"La desviación estándar es:\", std_dev)\n",
                "\n"
            ]
        }
    ],
    "metadata": {
        "kernelspec": {
            "display_name": "Python 3",
            "language": "python",
            "name": "python3"
        },
        "language_info": {
            "codemirror_mode": {
                "name": "ipython",
                "version": 3
            },
            "file_extension": ".py",
            "mimetype": "text/x-python",
            "name": "python",
            "nbconvert_exporter": "python",
            "pygments_lexer": "ipython3",
            "version": "3.11.4"
        }
    },
    "nbformat": 4,
    "nbformat_minor": 5
}
